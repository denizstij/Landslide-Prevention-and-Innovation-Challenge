{
  "cells": [
    {
      "cell_type": "markdown",
      "id": "7299c4d4",
      "metadata": {
        "id": "7299c4d4",
        "papermill": {
          "duration": 0.012387,
          "end_time": "2022-11-20T16:35:37.343102",
          "exception": false,
          "start_time": "2022-11-20T16:35:37.330715",
          "status": "completed"
        },
        "tags": []
      },
      "source": [
        "# Landslide Prevention and Innovation Challenge with common scikit-learn libraries"
      ]
    },
    {
      "cell_type": "code",
      "execution_count": null,
      "id": "eb877f0b",
      "metadata": {
        "execution": {
          "iopub.execute_input": "2022-11-20T16:35:37.367916Z",
          "iopub.status.busy": "2022-11-20T16:35:37.366454Z",
          "iopub.status.idle": "2022-11-20T16:35:39.707057Z",
          "shell.execute_reply": "2022-11-20T16:35:39.705792Z"
        },
        "id": "eb877f0b",
        "papermill": {
          "duration": 2.355687,
          "end_time": "2022-11-20T16:35:39.709799",
          "exception": false,
          "start_time": "2022-11-20T16:35:37.354112",
          "status": "completed"
        },
        "tags": [],
        "outputId": "0e29f3e9-df3e-4166-ed6e-ccde99809c79"
      },
      "outputs": [
        {
          "data": {
            "text/html": [
              "<style type='text/css'>\n",
              ".datatable table.frame { margin-bottom: 0; }\n",
              ".datatable table.frame thead { border-bottom: none; }\n",
              ".datatable table.frame tr.coltypes td {  color: #FFFFFF;  line-height: 6px;  padding: 0 0.5em;}\n",
              ".datatable .bool    { background: #DDDD99; }\n",
              ".datatable .object  { background: #565656; }\n",
              ".datatable .int     { background: #5D9E5D; }\n",
              ".datatable .float   { background: #4040CC; }\n",
              ".datatable .str     { background: #CC4040; }\n",
              ".datatable .time    { background: #40CC40; }\n",
              ".datatable .row_index {  background: var(--jp-border-color3);  border-right: 1px solid var(--jp-border-color0);  color: var(--jp-ui-font-color3);  font-size: 9px;}\n",
              ".datatable .frame tbody td { text-align: left; }\n",
              ".datatable .frame tr.coltypes .row_index {  background: var(--jp-border-color0);}\n",
              ".datatable th:nth-child(2) { padding-left: 12px; }\n",
              ".datatable .hellipsis {  color: var(--jp-cell-editor-border-color);}\n",
              ".datatable .vellipsis {  background: var(--jp-layout-color0);  color: var(--jp-cell-editor-border-color);}\n",
              ".datatable .na {  color: var(--jp-cell-editor-border-color);  font-size: 80%;}\n",
              ".datatable .sp {  opacity: 0.25;}\n",
              ".datatable .footer { font-size: 9px; }\n",
              ".datatable .frame_dimensions {  background: var(--jp-border-color3);  border-top: 1px solid var(--jp-border-color0);  color: var(--jp-ui-font-color3);  display: inline-block;  opacity: 0.6;  padding: 1px 10px 1px 5px;}\n",
              "</style>\n"
            ],
            "text/plain": [
              "<IPython.core.display.HTML object>"
            ]
          },
          "metadata": {},
          "output_type": "display_data"
        }
      ],
      "source": [
        "import lightgbm as lgb\n",
        "if not lgb.__version__ =='3.3.2':\n",
        "  print('You must install LightGBM 3.3.2')\n",
        "  !pip install lightgbm==3.3.2 --install-option=--gpu"
      ]
    },
    {
      "cell_type": "code",
      "execution_count": null,
      "id": "3b9bd2cf",
      "metadata": {
        "execution": {
          "iopub.execute_input": "2022-11-20T16:35:39.734786Z",
          "iopub.status.busy": "2022-11-20T16:35:39.733595Z",
          "iopub.status.idle": "2022-11-20T16:35:40.090065Z",
          "shell.execute_reply": "2022-11-20T16:35:40.088923Z"
        },
        "id": "3b9bd2cf",
        "papermill": {
          "duration": 0.372002,
          "end_time": "2022-11-20T16:35:40.093033",
          "exception": false,
          "start_time": "2022-11-20T16:35:39.721031",
          "status": "completed"
        },
        "tags": []
      },
      "outputs": [],
      "source": [
        "#Import libraries\n",
        "\n",
        "import pandas as pd\n",
        "import numpy as np\n",
        "import random\n",
        "import itertools\n",
        "from functools import partial\n",
        "import os\n",
        "import sys\n",
        "import gc\n",
        "\n",
        "import sklearn\n",
        "from sklearn.model_selection import StratifiedKFold, StratifiedShuffleSplit, train_test_split\n",
        "from sklearn.metrics import accuracy_score\n",
        "from sklearn.metrics import confusion_matrix\n",
        "from sklearn.metrics import f1_score\n",
        "from sklearn.metrics import f1_score, make_scorer\n",
        "from sklearn.base import TransformerMixin, BaseEstimator\n",
        "from sklearn.preprocessing import StandardScaler, OneHotEncoder, FunctionTransformer\n",
        "from sklearn.impute import SimpleImputer\n",
        "from sklearn.compose import ColumnTransformer, make_column_selector, make_column_transformer\n",
        "from sklearn.pipeline import make_pipeline, Pipeline\n",
        "\n",
        "import matplotlib.pyplot as plt\n",
        "import seaborn as sns\n",
        "from sklearn.metrics import f1_score, classification_report,confusion_matrix, ConfusionMatrixDisplay\n",
        "from sklearn.model_selection import train_test_split, StratifiedKFold\n",
        "import lightgbm as lgb\n",
        "pd.set_option('display.max_columns', None)\n",
        "import warnings\n",
        "warnings.filterwarnings('ignore')\n",
        "\n",
        "pd.set_option('display.width', 1000)\n",
        "pd.set_option('display.max_rows', 500)\n",
        "pd.set_option('display.max_columns', 500)"
      ]
    },
    {
      "cell_type": "markdown",
      "id": "38c4f9c2",
      "metadata": {
        "id": "38c4f9c2",
        "papermill": {
          "duration": 0.011781,
          "end_time": "2022-11-20T16:35:40.118035",
          "exception": false,
          "start_time": "2022-11-20T16:35:40.106254",
          "status": "completed"
        },
        "tags": []
      },
      "source": [
        "## Versions"
      ]
    },
    {
      "cell_type": "code",
      "execution_count": null,
      "id": "fac95d7d",
      "metadata": {
        "execution": {
          "iopub.execute_input": "2022-11-20T16:35:40.142837Z",
          "iopub.status.busy": "2022-11-20T16:35:40.141616Z",
          "iopub.status.idle": "2022-11-20T16:35:40.149264Z",
          "shell.execute_reply": "2022-11-20T16:35:40.147883Z"
        },
        "id": "fac95d7d",
        "outputId": "8e4fd644-21dc-4651-e389-f5af3b990d2f",
        "papermill": {
          "duration": 0.02306,
          "end_time": "2022-11-20T16:35:40.152104",
          "exception": false,
          "start_time": "2022-11-20T16:35:40.129044",
          "status": "completed"
        },
        "tags": []
      },
      "outputs": [
        {
          "name": "stdout",
          "output_type": "stream",
          "text": [
            " numpy version: 1.21.6\n",
            " pandas version: 1.3.5\n",
            " lightgbm version: 3.3.2\n",
            " sklearn version: 1.0.2\n"
          ]
        }
      ],
      "source": [
        "def print_ver(m):\n",
        "  print(f' {m.__name__} version: {m.__version__}')  \n",
        "print_ver(np)\n",
        "print_ver(pd)\n",
        "print_ver(lgb)\n",
        "print_ver(sklearn)"
      ]
    },
    {
      "cell_type": "markdown",
      "id": "f1080f47",
      "metadata": {
        "id": "f1080f47",
        "papermill": {
          "duration": 0.011136,
          "end_time": "2022-11-20T16:35:40.175157",
          "exception": false,
          "start_time": "2022-11-20T16:35:40.164021",
          "status": "completed"
        },
        "tags": []
      },
      "source": [
        "## Load Data"
      ]
    },
    {
      "cell_type": "code",
      "execution_count": null,
      "id": "1bf02537",
      "metadata": {
        "execution": {
          "iopub.execute_input": "2022-11-20T16:35:40.199690Z",
          "iopub.status.busy": "2022-11-20T16:35:40.198684Z",
          "iopub.status.idle": "2022-11-20T16:35:40.205988Z",
          "shell.execute_reply": "2022-11-20T16:35:40.204391Z"
        },
        "papermill": {
          "duration": 0.022628,
          "end_time": "2022-11-20T16:35:40.209054",
          "exception": false,
          "start_time": "2022-11-20T16:35:40.186426",
          "status": "completed"
        },
        "tags": [],
        "id": "1bf02537"
      },
      "outputs": [],
      "source": [
        "def seed_everything(seed=55):\n",
        "    random.seed(seed)\n",
        "    np.random.seed(seed)\n",
        "    os.environ['PYTHONHASHSEED'] = str(seed)\n",
        "    \n",
        "my_seed=55\n",
        "seed_everything(my_seed)"
      ]
    },
    {
      "cell_type": "code",
      "execution_count": null,
      "id": "5681fd0b",
      "metadata": {
        "execution": {
          "iopub.execute_input": "2022-11-20T16:35:40.237045Z",
          "iopub.status.busy": "2022-11-20T16:35:40.236333Z",
          "iopub.status.idle": "2022-11-20T16:35:40.240961Z",
          "shell.execute_reply": "2022-11-20T16:35:40.239785Z"
        },
        "id": "5681fd0b",
        "papermill": {
          "duration": 0.021674,
          "end_time": "2022-11-20T16:35:40.243652",
          "exception": false,
          "start_time": "2022-11-20T16:35:40.221978",
          "status": "completed"
        },
        "tags": []
      },
      "outputs": [],
      "source": [
        "#from google.colab import drive\n",
        "#drive.mount('/content/drive')"
      ]
    },
    {
      "cell_type": "code",
      "execution_count": null,
      "id": "8938d409",
      "metadata": {
        "execution": {
          "iopub.execute_input": "2022-11-20T16:35:40.267193Z",
          "iopub.status.busy": "2022-11-20T16:35:40.266814Z",
          "iopub.status.idle": "2022-11-20T16:35:41.413050Z",
          "shell.execute_reply": "2022-11-20T16:35:41.411528Z"
        },
        "id": "8938d409",
        "papermill": {
          "duration": 1.161673,
          "end_time": "2022-11-20T16:35:41.416130",
          "exception": false,
          "start_time": "2022-11-20T16:35:40.254457",
          "status": "completed"
        },
        "tags": []
      },
      "outputs": [],
      "source": [
        "# read data from https://zindi.africa/competitions/landslide-prevention-and-innovation-challenge/data\n",
        "# please locate data according to your current setup\n",
        "path = '/content/drive/MyDrive/ColabNotebooks/Zindi_LPI/'\n",
        "path=\"../input/start-hack-22/\"\n",
        "train = pd.read_csv(path+'Train.csv', index_col=0)\n",
        "test = pd.read_csv(path+'Test.csv',index_col=0)\n",
        "sample_submission = pd.read_csv(path+'SampleSubmission.csv')\n",
        "y_train=train['Label'].values"
      ]
    },
    {
      "cell_type": "code",
      "execution_count": null,
      "id": "4e93b27c",
      "metadata": {
        "execution": {
          "iopub.execute_input": "2022-11-20T16:35:41.443045Z",
          "iopub.status.busy": "2022-11-20T16:35:41.441684Z",
          "iopub.status.idle": "2022-11-20T16:35:41.492344Z",
          "shell.execute_reply": "2022-11-20T16:35:41.491063Z"
        },
        "papermill": {
          "duration": 0.066331,
          "end_time": "2022-11-20T16:35:41.495231",
          "exception": false,
          "start_time": "2022-11-20T16:35:41.428900",
          "status": "completed"
        },
        "tags": [],
        "id": "4e93b27c"
      },
      "outputs": [],
      "source": [
        "# create strafied train, validation sets\n",
        "strat_train_set, strat_test_set=train_test_split(train, test_size=0.2, stratify=train['Label'],random_state=my_seed)\n",
        "strat_train_label=strat_train_set['Label']\n",
        "strat_test_label=strat_test_set['Label']\n",
        "strat_train_set.drop('Label',axis=1,inplace=True)\n",
        "strat_test_set.drop('Label',axis=1,inplace=True)\n",
        "train.drop('Label',axis=1,inplace=True)"
      ]
    },
    {
      "cell_type": "markdown",
      "id": "68eb9184",
      "metadata": {
        "id": "68eb9184",
        "papermill": {
          "duration": 0.010932,
          "end_time": "2022-11-20T16:35:41.517691",
          "exception": false,
          "start_time": "2022-11-20T16:35:41.506759",
          "status": "completed"
        },
        "tags": []
      },
      "source": [
        "# Explorary Data Analysis "
      ]
    },
    {
      "cell_type": "markdown",
      "id": "5bcf2263",
      "metadata": {
        "id": "5bcf2263",
        "papermill": {
          "duration": 0.010594,
          "end_time": "2022-11-20T16:35:41.539062",
          "exception": false,
          "start_time": "2022-11-20T16:35:41.528468",
          "status": "completed"
        },
        "tags": []
      },
      "source": [
        "![image.png](data:image/png;base64,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)\n",
        "\n",
        "\n",
        "Each sample is composed of data from 25 cells, covering an area of 625 m2. Each cell represents an area of 5 x 5 m2 and has nine features (as introduced in section 2). For a landslide sample, cell 13 is the location of landslide, and other cells are the neighboring areas. For a non-landslide sample, there is no recorded landslide occurrence within the sample area.\n",
        "\n",
        "\n",
        "![image.png](data:image/png;base64,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)"
      ]
    },
    {
      "cell_type": "markdown",
      "id": "40c29d0c",
      "metadata": {
        "id": "40c29d0c",
        "papermill": {
          "duration": 0.010548,
          "end_time": "2022-11-20T16:35:41.560514",
          "exception": false,
          "start_time": "2022-11-20T16:35:41.549966",
          "status": "completed"
        },
        "tags": []
      },
      "source": [
        "For further analysis, please refer my other notebook [here](https://www.kaggle.com/code/denizstij/eda-landslide-prevention-and-innovation/notebook)"
      ]
    },
    {
      "cell_type": "markdown",
      "id": "956f8d12",
      "metadata": {
        "id": "956f8d12",
        "papermill": {
          "duration": 0.010548,
          "end_time": "2022-11-20T16:35:41.581902",
          "exception": false,
          "start_time": "2022-11-20T16:35:41.571354",
          "status": "completed"
        },
        "tags": []
      },
      "source": [
        "# Feature Engineering"
      ]
    },
    {
      "cell_type": "code",
      "execution_count": null,
      "id": "7052a463",
      "metadata": {
        "execution": {
          "iopub.execute_input": "2022-11-20T16:35:41.605423Z",
          "iopub.status.busy": "2022-11-20T16:35:41.605018Z",
          "iopub.status.idle": "2022-11-20T16:35:41.613585Z",
          "shell.execute_reply": "2022-11-20T16:35:41.612396Z"
        },
        "id": "7052a463",
        "papermill": {
          "duration": 0.023228,
          "end_time": "2022-11-20T16:35:41.615989",
          "exception": false,
          "start_time": "2022-11-20T16:35:41.592761",
          "status": "completed"
        },
        "tags": []
      },
      "outputs": [],
      "source": [
        "base_num_features=['elevation',  'lsfactor', 'placurv', 'procurv', 'sdoif', 'slope', 'twi', 'aspect']\n",
        "base_cat_features=['geology']\n",
        "raw_num_features=[x for x in strat_train_set.columns for col in base_num_features if col in x] \n",
        "raw_cat_features=[x for x in strat_train_set.columns if 'geology' in x] \n",
        "\n",
        "diag_lr_col_index=[[1,7,13,19,25],[2,8,14,20],[6,12,18,24]]\n",
        "diag_rl_col_index=[[21,17,13,9,5],[16,12,8,4],[22,18,14,10]]\n",
        "corn_col_index=[1,21,5,25]\n",
        "imp_colum_index=diag_lr_col_index+diag_rl_col_index+[corn_col_index] ## import columns \n",
        "gradient_cols=['placurv', 'procurv']"
      ]
    },
    {
      "cell_type": "code",
      "execution_count": null,
      "id": "bc4cc84c",
      "metadata": {
        "execution": {
          "iopub.execute_input": "2022-11-20T16:35:41.639766Z",
          "iopub.status.busy": "2022-11-20T16:35:41.639348Z",
          "iopub.status.idle": "2022-11-20T16:35:41.651325Z",
          "shell.execute_reply": "2022-11-20T16:35:41.650060Z"
        },
        "papermill": {
          "duration": 0.026717,
          "end_time": "2022-11-20T16:35:41.653795",
          "exception": false,
          "start_time": "2022-11-20T16:35:41.627078",
          "status": "completed"
        },
        "tags": [],
        "id": "bc4cc84c"
      },
      "outputs": [],
      "source": [
        "class CategoricalTransformer(TransformerMixin, BaseEstimator):\n",
        "    \n",
        "    def fit(self, x, y=None):    \n",
        "        return self    \n",
        "\n",
        "    def transform(self, x, y=None):\n",
        "        self.feature_names=[]\n",
        "        print(f'starting categorical feature with input shape: {x.shape}')\n",
        "        self.feature_names.extend(raw_cat_features)        \n",
        "        df = pd.DataFrame(x, columns=raw_cat_features)\n",
        "        #df[raw_cat_features]=df[raw_cat_features].astype(\"category\")\n",
        "        \n",
        "        col_name=f'geology_nunique'\n",
        "        self.feature_names.append(col_name)\n",
        "        df[col_name]=df.nunique(axis=1)\n",
        "      \n",
        "        for i in range(1,8):    \n",
        "            col_name=f'geology_cat_{i}_nunique'\n",
        "            mask=df.loc[:,raw_cat_features]==i\n",
        "            self.feature_names.append(col_name)\n",
        "            df[col_name]= mask.sum(axis=1)\n",
        "            for ii, idx in enumerate(imp_colum_index):\n",
        "                diag_col_names=[str(x)+\"_geology\" for x in idx ]\n",
        "                col_name=f'geology_cat_{i}_{ii+1}_nunique_imp_idx'\n",
        "                self.feature_names.append(col_name)\n",
        "                mask=df.loc[:,diag_col_names]==i\n",
        "                df[col_name]= mask.sum(axis=1)            \n",
        "        \n",
        "        col_name=f'geology_mode'\n",
        "        self.feature_names.append(col_name)\n",
        "        df[col_name]=df.loc[:,raw_cat_features].mode(axis=1)[0].astype('int8')\n",
        "        #df[col_name]=df[col_name].astype(\"category\")\n",
        "        \n",
        "        #print(f'{col_name} shape {df.shape}')\n",
        "        return df[self.feature_names]\n",
        "    \n",
        "    def get_feature_names(self):\n",
        "        return self.feature_names"
      ]
    },
    {
      "cell_type": "code",
      "execution_count": null,
      "id": "f81a3b2f",
      "metadata": {
        "execution": {
          "iopub.execute_input": "2022-11-20T16:35:41.679308Z",
          "iopub.status.busy": "2022-11-20T16:35:41.678788Z",
          "iopub.status.idle": "2022-11-20T16:35:41.719314Z",
          "shell.execute_reply": "2022-11-20T16:35:41.718104Z"
        },
        "papermill": {
          "duration": 0.057589,
          "end_time": "2022-11-20T16:35:41.722739",
          "exception": false,
          "start_time": "2022-11-20T16:35:41.665150",
          "status": "completed"
        },
        "tags": [],
        "id": "f81a3b2f"
      },
      "outputs": [],
      "source": [
        "class NumericalTransformer(TransformerMixin, BaseEstimator):            \n",
        "    def fit(self, x, y=None):        \n",
        "        return self    \n",
        "\n",
        "    def transform(self, x, y=None):\n",
        "        self.feature_names=[]\n",
        "        print(f'starting numerical feature with input shape: {x.shape}')\n",
        "        self.feature_names.extend(raw_num_features)        \n",
        "        df = pd.DataFrame(x, columns=raw_num_features)\n",
        "        res = df.copy()\n",
        "        \n",
        "        sum_prod_cur=None\n",
        "        for i in range(1,26):\n",
        "            curve_col_names=[str(i)+\"_\"+ x for x in gradient_cols]     \n",
        "            col_name=f'curve_{i}_mean'\n",
        "            self.feature_names.append(col_name)\n",
        "            res[col_name] = df.loc[:,curve_col_names].mean(axis = 1)    \n",
        "            col_name=f'curve_{i}_sum'\n",
        "            self.feature_names.append(col_name)\n",
        "            res[col_name] = df.loc[:,curve_col_names].sum(axis = 1)    \n",
        "            col_name=f'curve_{i}_diff'\n",
        "            self.feature_names.append(col_name)\n",
        "            res[col_name] = df.loc[:,curve_col_names].diff(axis = 1).iloc[:,1] \n",
        "            placurv_col_name=f'{i}_placurv'\n",
        "            procurv_col_name=f'{i}_procurv'\n",
        "            if sum_prod_cur is None:\n",
        "                sum_prod_cur=df.loc[:,placurv_col_name]*df.loc[:,procurv_col_name]\n",
        "            else:\n",
        "                sum_prod_cur=sum_prod_cur+ df.loc[:,placurv_col_name]*df.loc[:,procurv_col_name]\n",
        "    \n",
        "        col_name=f'sum_prod_curve'\n",
        "        self.feature_names.append(col_name)\n",
        "        res[col_name]=sum_prod_cur\n",
        "        #print(f'sum_prod_curve new shape {res.shape}')\n",
        "        # numerical\n",
        "        for i, col in enumerate(base_num_features):\n",
        "            col_names=[x for x in df.columns if col in x]\n",
        "            #print(f'{col} new shape {res.shape}')\n",
        "            col_name=f'{col}_mean'\n",
        "            self.feature_names.append(col_name)\n",
        "            res[col_name] = df[col_names].mean(axis = 1)        \n",
        "            col_name=f'{col}_std'\n",
        "            self.feature_names.append(col_name)\n",
        "            res[col_name] = df[col_names].std(axis = 1)\n",
        "\n",
        "            # Given that cell 13 is most important, lets look into diff and ratio\n",
        "            col_name=f'13_{col}'\n",
        "            d13_col_names=[f'{col}_13_sub_{i}' for i in range(25)]\n",
        "            self.feature_names.extend(d13_col_names)\n",
        "            res[d13_col_names] = df.loc[:,col_names].subtract(df.loc[:,col_name], axis=0 )\n",
        "            d13_col_names=[f'{col}_13_div_{i}' for i in range(25)]\n",
        "            self.feature_names.extend(d13_col_names)\n",
        "            res[d13_col_names] = df.loc[:,col_names].div(df.loc[:,col_name], axis=0 )        \n",
        "\n",
        "            col_names=[x for x in df.columns if col in x]        \n",
        "            res_col_name=[f'{ii}_{col}_rank' for ii in range(1,26)]        \n",
        "            self.feature_names.extend(res_col_name)\n",
        "            res[res_col_name]= df[col_names].rank(axis = 1, method='min').astype('int8')\n",
        "            \n",
        "\n",
        "            for ii, idx in enumerate(diag_lr_col_index):\n",
        "                col_name=f'diag_lr{ii}_mean_{col}'\n",
        "                diag_col_names=[str(x)+\"_\"+col for x in idx ]\n",
        "                self.feature_names.append(col_name)\n",
        "                res[col_name]=df.loc[:,diag_col_names].diff(axis=1).mean(axis=1)\n",
        "                col_name=f'diag_lr{ii}_std_{col}'\n",
        "                self.feature_names.append(col_name)\n",
        "                res[col_name]=df.loc[:,diag_col_names].diff(axis=1).std(axis=1)\n",
        "                col_name=f'diag_lr{ii}_sum_{col}'\n",
        "                self.feature_names.append(col_name)\n",
        "                res[col_name]=df.loc[:,diag_col_names].sum(axis=1)\n",
        "\n",
        "            for ii, idx in enumerate(diag_rl_col_index):\n",
        "                col_name=f'diag_rl{ii}_mean_{col}'\n",
        "                diag_col_names=[str(x)+\"_\"+ col for x in idx ]        \n",
        "                self.feature_names.append(col_name)\n",
        "                res[col_name]=df.loc[:,diag_col_names].diff(axis=1).mean(axis=1)\n",
        "                col_name=f'diag_rl{ii}_std_{col}'\n",
        "                self.feature_names.append(col_name)\n",
        "                res[col_name]=df.loc[:,diag_col_names].diff(axis=1).std(axis=1)\n",
        "                col_name=f'diag_rl{ii}_sum_{col}'\n",
        "                self.feature_names.append(col_name)\n",
        "                res[col_name]=df.loc[:,diag_col_names].sum(axis=1)\n",
        "                    \n",
        "            col_name=f'corner_mean_{col}'\n",
        "            diag_col_names=[str(x)+\"_\"+ col for x in corn_col_index ]        \n",
        "            self.feature_names.append(col_name)\n",
        "            res[col_name]=df.loc[:,diag_col_names].diff(axis=1).mean(axis=1)\n",
        "\n",
        "            col_name=f'corner_std_{col}'\n",
        "            self.feature_names.append(col_name)\n",
        "            res[col_name]=df.loc[:,diag_col_names].diff(axis=1).std(axis=1)\n",
        "\n",
        "            col_name=f'corner_sum_{col}'\n",
        "            self.feature_names.append(col_name)\n",
        "            res[col_name]=df.loc[:,diag_col_names].sum(axis=1)\n",
        "\n",
        "            col_name=f'grad1_{col}'     \n",
        "            self.feature_names.append(col_name)\n",
        "            res[col_name]=df.apply(lambda x: (x['1_'+col]/x['5_'+col]), axis=1)        \n",
        "\n",
        "            col_name=f'grad2_{col}'\n",
        "            self.feature_names.append(col_name)\n",
        "            res[col_name]=df.apply(lambda x: (x['1_'+col]/x['21_'+col]), axis=1)\n",
        "\n",
        "            col_name=f'grad3_{col}'\n",
        "            self.feature_names.append(col_name)\n",
        "            res[col_name]=df.apply(lambda x: (x['5_'+col]/x['25_'+col]), axis=1)\n",
        "\n",
        "            col_name=f'grad4_{col}'\n",
        "            self.feature_names.append(col_name)\n",
        "            res[col_name]=df.apply(lambda x: (x['21_'+col]/x['25_'+col]), axis=1)\n",
        "\n",
        "            #print(f'{col} new shape {res.shape}')\n",
        "\n",
        "            # diff 1 and 2 features on axis 1 and 2 \n",
        "            arr=df.loc[:,col_names].values.reshape(len(df),5,5)        \n",
        "            arr=arr.astype('float32')\n",
        "            d1=np.mean(arr,axis=1)\n",
        "            d2=np.mean(arr,axis=2)\n",
        "            d3=np.std(arr,axis=1)\n",
        "            d4=np.std(arr,axis=2)\n",
        "            d5=np.diff(arr,axis=1).mean(axis=1)\n",
        "            d6=np.diff(arr,axis=2).mean(axis=2)\n",
        "\n",
        "            d11=np.mean(arr,axis=1)\n",
        "            d12=np.mean(arr,axis=2)\n",
        "            d21=np.mean(d2,axis=1)\n",
        "            d22=np.mean(d2,axis=1)\n",
        "            deltas={'d1':d1,'d2':d2,'d3':d3,'d4':d4,'d5':d5,'d6':d6,'d11':d11,'d12':d12,'d21':d21,'d22':d22}\n",
        "\n",
        "            for delta_col, d in deltas.items():            \n",
        "                dx=d.reshape(len(df),-1).astype('float32')                        \n",
        "                dx_col_names=[f'{col}_{delta_col}_{i}' for i in range(dx.shape[1])]            \n",
        "                self.feature_names.extend(dx_col_names)\n",
        "                res[dx_col_names]=dx            \n",
        "\n",
        "            #print(f'{col} new shape {res.shape} features length: {len(self.feature_names)}')\n",
        "    \n",
        "        return res[self.feature_names]\n",
        "    \n",
        "    def get_feature_names(self):\n",
        "        return self.feature_names"
      ]
    },
    {
      "cell_type": "code",
      "execution_count": null,
      "id": "73d9eb3e",
      "metadata": {
        "execution": {
          "iopub.execute_input": "2022-11-20T16:35:41.748370Z",
          "iopub.status.busy": "2022-11-20T16:35:41.747976Z",
          "iopub.status.idle": "2022-11-20T16:35:41.754338Z",
          "shell.execute_reply": "2022-11-20T16:35:41.753094Z"
        },
        "papermill": {
          "duration": 0.02249,
          "end_time": "2022-11-20T16:35:41.756883",
          "exception": false,
          "start_time": "2022-11-20T16:35:41.734393",
          "status": "completed"
        },
        "tags": [],
        "id": "73d9eb3e"
      },
      "outputs": [],
      "source": [
        "preprocessing=make_column_transformer(\n",
        "    (CategoricalTransformer(), raw_cat_features), #make_column_selector(pattern=\"[09]*_geology\")#),    \n",
        "    (NumericalTransformer(), raw_num_features), #make_column_selector(pattern=\"[09]*_geology\")#),    \n",
        "    remainder='passthrough',\n",
        "    verbose=True\n",
        ")"
      ]
    },
    {
      "cell_type": "code",
      "execution_count": null,
      "id": "131e7062",
      "metadata": {
        "execution": {
          "iopub.execute_input": "2022-11-20T16:35:41.781394Z",
          "iopub.status.busy": "2022-11-20T16:35:41.781004Z",
          "iopub.status.idle": "2022-11-20T16:36:13.011302Z",
          "shell.execute_reply": "2022-11-20T16:36:13.010160Z"
        },
        "papermill": {
          "duration": 31.246286,
          "end_time": "2022-11-20T16:36:13.014408",
          "exception": false,
          "start_time": "2022-11-20T16:35:41.768122",
          "status": "completed"
        },
        "tags": [],
        "id": "131e7062",
        "outputId": "8c8fbff1-7a56-4ecb-c56a-7afe32774683"
      },
      "outputs": [
        {
          "name": "stdout",
          "output_type": "stream",
          "text": [
            "**** Training Feature Eng ****\n",
            "starting categorical feature with input shape: (10864, 25)\n",
            "[ColumnTransformer]  (1 of 2) Processing categoricaltransformer, total=   5.4s\n",
            "starting numerical feature with input shape: (10864, 200)\n",
            "[ColumnTransformer]  (2 of 2) Processing numericaltransformer, total=   7.0s\n",
            "**** Stratified Training Feature Eng ****\n",
            "starting categorical feature with input shape: (8691, 25)\n",
            "[ColumnTransformer]  (1 of 2) Processing categoricaltransformer, total=   4.2s\n",
            "starting numerical feature with input shape: (8691, 200)\n",
            "[ColumnTransformer]  (2 of 2) Processing numericaltransformer, total=   5.7s\n",
            "**** Stratified Testing Feature Eng ****\n",
            "starting categorical feature with input shape: (2173, 25)\n",
            "starting numerical feature with input shape: (2173, 200)\n",
            "**** Testing Feature Eng ****\n",
            "starting categorical feature with input shape: (5430, 25)\n",
            "starting numerical feature with input shape: (5430, 200)\n"
          ]
        }
      ],
      "source": [
        "print(\"**** Training Feature Eng ****\")\n",
        "train_features=preprocessing.fit_transform(train)\n",
        "print(\"**** Stratified Training Feature Eng ****\")\n",
        "strat_train_features=preprocessing.fit_transform(strat_train_set)\n",
        "print(\"**** Stratified Testing Feature Eng ****\")\n",
        "strat_test_features=preprocessing.transform(strat_test_set)\n",
        "print(\"**** Testing Feature Eng ****\")\n",
        "test_features=preprocessing.transform(test)"
      ]
    },
    {
      "cell_type": "code",
      "execution_count": null,
      "id": "39907714",
      "metadata": {
        "execution": {
          "iopub.execute_input": "2022-11-20T16:36:13.039372Z",
          "iopub.status.busy": "2022-11-20T16:36:13.038673Z",
          "iopub.status.idle": "2022-11-20T16:36:13.050328Z",
          "shell.execute_reply": "2022-11-20T16:36:13.048931Z"
        },
        "papermill": {
          "duration": 0.026937,
          "end_time": "2022-11-20T16:36:13.052881",
          "exception": false,
          "start_time": "2022-11-20T16:36:13.025944",
          "status": "completed"
        },
        "tags": [],
        "id": "39907714",
        "outputId": "9da0f53c-63bc-4380-e325-5f195cad2a86"
      },
      "outputs": [
        {
          "name": "stdout",
          "output_type": "stream",
          "text": [
            " df_train shape: (10864, 1511) df_strat_train shape: (8691, 1511)  df_strat_test.shape (2173, 1511) df_test.shape (5430, 1511)  \n"
          ]
        }
      ],
      "source": [
        "df_train=pd.DataFrame(train_features, columns=preprocessing.get_feature_names(), index= train.index)\n",
        "df_strat_train=pd.DataFrame(strat_train_features, columns=preprocessing.get_feature_names(), index= strat_train_set.index)\n",
        "df_strat_test=pd.DataFrame(strat_test_features,columns=preprocessing.get_feature_names(), index= strat_test_set.index)\n",
        "df_test=pd.DataFrame(test_features,columns=preprocessing.get_feature_names(), index=test.index)\n",
        "\n",
        "print(f\" df_train shape: {df_train.shape} df_strat_train shape: {df_strat_train.shape}  df_strat_test.shape {df_strat_test.shape} df_test.shape {df_test.shape}  \")"
      ]
    },
    {
      "cell_type": "code",
      "execution_count": null,
      "id": "0af30aa6",
      "metadata": {
        "execution": {
          "iopub.execute_input": "2022-11-20T16:36:13.077992Z",
          "iopub.status.busy": "2022-11-20T16:36:13.077581Z",
          "iopub.status.idle": "2022-11-20T16:36:13.088660Z",
          "shell.execute_reply": "2022-11-20T16:36:13.087286Z"
        },
        "papermill": {
          "duration": 0.028383,
          "end_time": "2022-11-20T16:36:13.092890",
          "exception": false,
          "start_time": "2022-11-20T16:36:13.064507",
          "status": "completed"
        },
        "tags": [],
        "id": "0af30aa6",
        "outputId": "1f8cb871-4690-4fef-bfac-3b05bd683790"
      },
      "outputs": [
        {
          "name": "stdout",
          "output_type": "stream",
          "text": [
            "# all features : 1511 # cat feature : 240\n"
          ]
        }
      ],
      "source": [
        "all_column_names=df_strat_train.columns.to_list()\n",
        "\n",
        "cat_rank_features=[x for x in all_column_names if \"_rank\" in x]\n",
        "wanted_cat_features= raw_cat_features + ['geology_mode']\n",
        "new_cat_features=[x for x in all_column_names for c in wanted_cat_features if c in x]\n",
        "all_cat_features=new_cat_features+cat_rank_features\n",
        "print(f\"# all features : {len(all_column_names)} # cat feature : {len(all_cat_features)}\")\n",
        "#all_cat_features ,all_column_names"
      ]
    },
    {
      "cell_type": "markdown",
      "id": "27e8367e",
      "metadata": {
        "id": "27e8367e",
        "papermill": {
          "duration": 0.01116,
          "end_time": "2022-11-20T16:36:13.117106",
          "exception": false,
          "start_time": "2022-11-20T16:36:13.105946",
          "status": "completed"
        },
        "tags": []
      },
      "source": [
        "## Todo\n",
        "Reduce the number of features."
      ]
    },
    {
      "cell_type": "markdown",
      "id": "0353253e",
      "metadata": {
        "id": "0353253e",
        "papermill": {
          "duration": 0.011415,
          "end_time": "2022-11-20T16:36:13.140361",
          "exception": false,
          "start_time": "2022-11-20T16:36:13.128946",
          "status": "completed"
        },
        "tags": []
      },
      "source": [
        "# Model Training with LightGBM and DART "
      ]
    },
    {
      "cell_type": "code",
      "execution_count": null,
      "id": "36bcac45",
      "metadata": {
        "execution": {
          "iopub.execute_input": "2022-11-20T16:36:13.165850Z",
          "iopub.status.busy": "2022-11-20T16:36:13.165083Z",
          "iopub.status.idle": "2022-11-20T16:36:13.171691Z",
          "shell.execute_reply": "2022-11-20T16:36:13.170708Z"
        },
        "id": "36bcac45",
        "papermill": {
          "duration": 0.022112,
          "end_time": "2022-11-20T16:36:13.174104",
          "exception": false,
          "start_time": "2022-11-20T16:36:13.151992",
          "status": "completed"
        },
        "tags": []
      },
      "outputs": [],
      "source": [
        "def lgb_f1_score(y_true, y_hat):        \n",
        "    #print(f\"y_hat: {y_hat} y_true: {y_true} \")    \n",
        "    y_hat=np.where(y_hat>0.5,1,0)\n",
        "    scr=f1_score(y_true, y_hat)    \n",
        "    return 'f1', f1_score(y_true, y_hat), True\n",
        "\n",
        "def f1_score_with_threshold(y_true, y_hat, thrshold=0.5):\n",
        "    #y_hat=y_hat>thrshold\n",
        "    y_hat=np.where(y_hat>thrshold,1,0)    \n",
        "    return f1_score(y_true, y_hat)"
      ]
    },
    {
      "cell_type": "code",
      "execution_count": null,
      "id": "19b2db9d",
      "metadata": {
        "execution": {
          "iopub.execute_input": "2022-11-20T16:36:13.199817Z",
          "iopub.status.busy": "2022-11-20T16:36:13.199391Z",
          "iopub.status.idle": "2022-11-20T16:36:13.206519Z",
          "shell.execute_reply": "2022-11-20T16:36:13.205442Z"
        },
        "papermill": {
          "duration": 0.022883,
          "end_time": "2022-11-20T16:36:13.208650",
          "exception": false,
          "start_time": "2022-11-20T16:36:13.185767",
          "status": "completed"
        },
        "tags": [],
        "id": "19b2db9d"
      },
      "outputs": [],
      "source": [
        "def create_classifier(num_iter=1000):    \n",
        "    params = {\n",
        "        'force_col_wise':True, # memory foot print is smaller\n",
        "        'n_estimators':num_iter,\n",
        "        'objective': 'binary',\n",
        "        'metric': \"binary_logloss\",\n",
        "        'boosting_type': 'dart',\n",
        "        'max_depth' : -1,\n",
        "        'random_state': my_seed,        \n",
        "        'learning_rate': 0.01,\n",
        "        'num_leaves': 2 ** 6, \n",
        "        'min_data_in_leaf': 15,\n",
        "        'subsample': 0.8,  \n",
        "        'subsample_freq': 1,\n",
        "        'first_metric_only': True,\n",
        "        'boost_from_average': False,\n",
        "        'tree_learner': 'serial',        \n",
        "        #'verbose': -1,\n",
        "        \n",
        "    } \n",
        "    classifier= Pipeline([#('preprocessing', preprocessing),                      \n",
        "                         ('clazzifier',lgb.LGBMClassifier(**params))],\n",
        "                        verbose=False)                      \n",
        "    return classifier"
      ]
    },
    {
      "cell_type": "markdown",
      "id": "6d31e373",
      "metadata": {
        "papermill": {
          "duration": 0.011273,
          "end_time": "2022-11-20T16:36:13.231664",
          "exception": false,
          "start_time": "2022-11-20T16:36:13.220391",
          "status": "completed"
        },
        "tags": [],
        "id": "6d31e373"
      },
      "source": [
        "### Cross validation"
      ]
    },
    {
      "cell_type": "code",
      "execution_count": null,
      "id": "cdb776f3",
      "metadata": {
        "execution": {
          "iopub.execute_input": "2022-11-20T16:36:13.257833Z",
          "iopub.status.busy": "2022-11-20T16:36:13.257087Z",
          "iopub.status.idle": "2022-11-20T16:57:03.069891Z",
          "shell.execute_reply": "2022-11-20T16:57:03.068353Z"
        },
        "papermill": {
          "duration": 1249.835583,
          "end_time": "2022-11-20T16:57:03.078786",
          "exception": false,
          "start_time": "2022-11-20T16:36:13.243203",
          "status": "completed"
        },
        "tags": [],
        "id": "cdb776f3",
        "outputId": "813aa547-71f6-469f-b632-e0f350fa83cc"
      },
      "outputs": [
        {
          "name": "stdout",
          "output_type": "stream",
          "text": [
            "Applying CV: 5 num_iter: 1000 \n",
            "[LightGBM] [Warning] min_data_in_leaf is set=15, min_child_samples=20 will be ignored. Current value: min_data_in_leaf=15\n",
            "[LightGBM] [Warning] min_data_in_leaf is set=15, min_child_samples=20 will be ignored. Current value: min_data_in_leaf=15\n",
            "[LightGBM] [Warning] min_data_in_leaf is set=15, min_child_samples=20 will be ignored. Current value: min_data_in_leaf=15\n",
            "[LightGBM] [Warning] min_data_in_leaf is set=15, min_child_samples=20 will be ignored. Current value: min_data_in_leaf=15\n",
            "[LightGBM] [Warning] min_data_in_leaf is set=15, min_child_samples=20 will be ignored. Current value: min_data_in_leaf=15\n"
          ]
        },
        {
          "data": {
            "text/plain": [
              "array([[0.41932014, 0.58067986],\n",
              "       [0.5818949 , 0.4181051 ],\n",
              "       [0.94315352, 0.05684648],\n",
              "       ...,\n",
              "       [0.83561185, 0.16438815],\n",
              "       [0.5240518 , 0.4759482 ],\n",
              "       [0.86719886, 0.13280114]])"
            ]
          },
          "execution_count": 17,
          "metadata": {},
          "output_type": "execute_result"
        }
      ],
      "source": [
        "from sklearn.model_selection import cross_validate, cross_val_predict\n",
        "# CV \n",
        "def apply_cross_validation(num_iter=100,cv=5):\n",
        "    seed_everything()\n",
        "    classifier=create_classifier(num_iter)\n",
        "    \n",
        "    lgb_valid = [(df_strat_train,strat_train_label),\n",
        "                 (df_strat_test, strat_test_label)]\n",
        "    fit_params={'clazzifier__eval_set':lgb_valid, \n",
        "                'clazzifier__eval_metric':[lgb_f1_score],\n",
        "                'clazzifier__feature_name':all_column_names,\n",
        "                'clazzifier__categorical_feature':all_cat_features,\n",
        "                'clazzifier__verbose':0\n",
        "               }\n",
        "    print(f\"Applying CV: {cv} num_iter: {num_iter} \")\n",
        "    #res=cross_validate(classifier,df_strat_train,strat_train_label, scoring='f1', cv=cv, verbose=1)    \n",
        "    oof_probs=cross_val_predict(classifier,df_strat_train,strat_train_label, \n",
        "                                fit_params=fit_params,\n",
        "                                method='predict_proba',\n",
        "                                cv=cv)    \n",
        "    return classifier,oof_probs\n",
        "classifier,oof_probs=apply_cross_validation(num_iter=1000,cv=5)\n",
        "oof_probs"
      ]
    },
    {
      "cell_type": "markdown",
      "id": "d6d6dd79",
      "metadata": {
        "papermill": {
          "duration": 0.011947,
          "end_time": "2022-11-20T16:57:03.102897",
          "exception": false,
          "start_time": "2022-11-20T16:57:03.090950",
          "status": "completed"
        },
        "tags": [],
        "id": "d6d6dd79"
      },
      "source": [
        "### Finding most optimum F1 Score/classification threshold with OoO Fold probabilities"
      ]
    },
    {
      "cell_type": "code",
      "execution_count": null,
      "id": "9d01e003",
      "metadata": {
        "execution": {
          "iopub.execute_input": "2022-11-20T16:57:03.129972Z",
          "iopub.status.busy": "2022-11-20T16:57:03.129541Z",
          "iopub.status.idle": "2022-11-20T16:57:03.776866Z",
          "shell.execute_reply": "2022-11-20T16:57:03.775783Z"
        },
        "papermill": {
          "duration": 0.664091,
          "end_time": "2022-11-20T16:57:03.779776",
          "exception": false,
          "start_time": "2022-11-20T16:57:03.115685",
          "status": "completed"
        },
        "tags": [],
        "id": "9d01e003",
        "outputId": "46609f8a-90e5-495a-bfdf-3243d5a4838d"
      },
      "outputs": [
        {
          "name": "stdout",
          "output_type": "stream",
          "text": [
            "max_idx: 35 max_ths: 0.3535353535353536 max: 0.7063180827886711\n"
          ]
        },
        {
          "data": {
            "image/png": "[encoded data removed]",
            "text/plain": [
              "<Figure size 432x288 with 1 Axes>"
            ]
          },
          "metadata": {
            "needs_background": "light"
          },
          "output_type": "display_data"
        }
      ],
      "source": [
        "thrs=np.linspace(0,1, num=100)\n",
        "\n",
        "f1_curve=[f1_score_with_threshold (strat_train_label.values, oof_probs[:,1], t) for t in thrs  ]\n",
        "plt.plot(f1_curve)\n",
        "max_idx=np.argmax(f1_curve)\n",
        "max_ths=thrs[max_idx]\n",
        "print(f\"max_idx: {max_idx} max_ths: {max_ths} max: {f1_curve[max_idx]}\",)"
      ]
    },
    {
      "cell_type": "code",
      "execution_count": null,
      "id": "52e2cd82",
      "metadata": {
        "execution": {
          "iopub.execute_input": "2022-11-20T16:57:03.806455Z",
          "iopub.status.busy": "2022-11-20T16:57:03.805990Z",
          "iopub.status.idle": "2022-11-20T16:57:03.819578Z",
          "shell.execute_reply": "2022-11-20T16:57:03.818402Z"
        },
        "papermill": {
          "duration": 0.030232,
          "end_time": "2022-11-20T16:57:03.822417",
          "exception": false,
          "start_time": "2022-11-20T16:57:03.792185",
          "status": "completed"
        },
        "tags": [],
        "id": "52e2cd82",
        "outputId": "9711876c-22a0-43bf-9724-37fd3a74dfc0"
      },
      "outputs": [
        {
          "name": "stdout",
          "output_type": "stream",
          "text": [
            "OoO score_f1: 0.7063180827886711\n"
          ]
        }
      ],
      "source": [
        "score_f1=f1_score_with_threshold(strat_train_label.values,  oof_probs[:,1],max_ths )\n",
        "print(f\"OoO score_f1: {score_f1}\")"
      ]
    },
    {
      "cell_type": "markdown",
      "id": "647941bb",
      "metadata": {
        "papermill": {
          "duration": 0.012375,
          "end_time": "2022-11-20T16:57:03.847473",
          "exception": false,
          "start_time": "2022-11-20T16:57:03.835098",
          "status": "completed"
        },
        "tags": [],
        "id": "647941bb"
      },
      "source": [
        "### Plot Confusion Matrix"
      ]
    },
    {
      "cell_type": "code",
      "execution_count": null,
      "id": "a794a421",
      "metadata": {
        "execution": {
          "iopub.execute_input": "2022-11-20T16:57:03.873995Z",
          "iopub.status.busy": "2022-11-20T16:57:03.873476Z",
          "iopub.status.idle": "2022-11-20T16:57:04.140552Z",
          "shell.execute_reply": "2022-11-20T16:57:04.139343Z"
        },
        "papermill": {
          "duration": 0.283547,
          "end_time": "2022-11-20T16:57:04.143323",
          "exception": false,
          "start_time": "2022-11-20T16:57:03.859776",
          "status": "completed"
        },
        "tags": [],
        "id": "a794a421",
        "outputId": "6c12c04d-d4de-4ce6-ad71-899da4d95ff9"
      },
      "outputs": [
        {
          "name": "stdout",
          "output_type": "stream",
          "text": [
            "max_ths: 0.3535353535353536\n"
          ]
        },
        {
          "data": {
            "image/png": "[encoded data removed]",
            "text/plain": [
              "<Figure size 432x288 with 2 Axes>"
            ]
          },
          "metadata": {
            "needs_background": "light"
          },
          "output_type": "display_data"
        }
      ],
      "source": [
        "import matplotlib.pyplot as plt\n",
        "import itertools\n",
        "from sklearn.metrics import confusion_matrix\n",
        "\n",
        "def plot_confusion_matrix(cm, classes,\n",
        "                          normalize = False,\n",
        "                          title = 'Confusion matrix\"',\n",
        "                          cmap = plt.cm.Blues) :\n",
        "    plt.imshow(cm, interpolation = 'nearest', cmap = cmap)\n",
        "    plt.title(title)\n",
        "    plt.colorbar()\n",
        "    tick_marks = np.arange(len(classes))\n",
        "    plt.xticks(tick_marks, classes, rotation = 0)\n",
        "    plt.yticks(tick_marks, classes)\n",
        "\n",
        "    thresh = cm.max() / 2.\n",
        "    for i, j in itertools.product(range(cm.shape[0]), range(cm.shape[1])) :\n",
        "        plt.text(j, i, cm[i, j],\n",
        "                 horizontalalignment = 'center',\n",
        "                 color = 'white' if cm[i, j] > thresh else 'black')\n",
        "\n",
        "    plt.tight_layout()\n",
        "    plt.ylabel('True label')\n",
        "    plt.xlabel('Predicted label')\n",
        "    \n",
        "print(f\"max_ths: {max_ths}\")\n",
        "oof_predictions_prob=np.where(oof_probs[:,1]>max_ths,1,0)\n",
        "cm = confusion_matrix(strat_train_label.values, oof_predictions_prob)\n",
        "class_names = [0,1]\n",
        "plt.figure()\n",
        "plot_confusion_matrix(cm, classes = class_names)\n",
        "plt.show()"
      ]
    },
    {
      "cell_type": "markdown",
      "id": "d9476a04",
      "metadata": {
        "papermill": {
          "duration": 0.012246,
          "end_time": "2022-11-20T16:57:04.168311",
          "exception": false,
          "start_time": "2022-11-20T16:57:04.156065",
          "status": "completed"
        },
        "tags": [],
        "id": "d9476a04"
      },
      "source": [
        "### Run classifier on the test validation set"
      ]
    },
    {
      "cell_type": "code",
      "execution_count": null,
      "id": "394267b1",
      "metadata": {
        "execution": {
          "iopub.execute_input": "2022-11-20T16:57:04.195589Z",
          "iopub.status.busy": "2022-11-20T16:57:04.195181Z",
          "iopub.status.idle": "2022-11-20T17:20:52.554028Z",
          "shell.execute_reply": "2022-11-20T17:20:52.552284Z"
        },
        "papermill": {
          "duration": 1428.376946,
          "end_time": "2022-11-20T17:20:52.557909",
          "exception": false,
          "start_time": "2022-11-20T16:57:04.180963",
          "status": "completed"
        },
        "tags": [],
        "id": "394267b1",
        "outputId": "46e9722c-57f6-46d2-d780-9ac1cdcae38f"
      },
      "outputs": [
        {
          "name": "stdout",
          "output_type": "stream",
          "text": [
            "\n",
            "*** Training classifier num_iter: 5000\n",
            "[LightGBM] [Warning] min_data_in_leaf is set=15, min_child_samples=20 will be ignored. Current value: min_data_in_leaf=15\n",
            "\n",
            "*** Predicting validation test set num_iter : 5000\n",
            "strat_test_f1: ('f1', 0.6892895015906682, True)\n"
          ]
        }
      ],
      "source": [
        "# check out f1 score\n",
        "def run_test_validation(num_iter=2000):\n",
        "    seed_everything()\n",
        "    classifier=create_classifier(num_iter)\n",
        "    lgb_valid = [(df_strat_train,strat_train_label),\n",
        "                 (df_strat_test, strat_test_label)]\n",
        "    print(f\"\\n*** Training classifier num_iter: {num_iter}\")\n",
        "    classifier.fit(df_strat_train,strat_train_label, #strat_train_set,strat_train_label, \n",
        "                   clazzifier__eval_set =lgb_valid, clazzifier__eval_metric =[lgb_f1_score],\n",
        "                   clazzifier__feature_name=all_column_names,\n",
        "                   clazzifier__categorical_feature=all_cat_features,\n",
        "                   clazzifier__verbose=0)\n",
        "    \n",
        "    print(f\"\\n*** Predicting validation test set num_iter : {num_iter}\")\n",
        "    strat_test_hat=classifier.predict_proba(df_strat_test)\n",
        "    strat_test_f1=lgb_f1_score(strat_test_label.values, strat_test_hat[:,1])\n",
        "    print(f\"strat_test_f1: {strat_test_f1}\")\n",
        "    return classifier,strat_test_hat\n",
        "\n",
        "classifier, strat_test_hat=run_test_validation(num_iter=5000)"
      ]
    },
    {
      "cell_type": "code",
      "execution_count": null,
      "id": "84aa17b9",
      "metadata": {
        "execution": {
          "iopub.execute_input": "2022-11-20T17:20:52.586464Z",
          "iopub.status.busy": "2022-11-20T17:20:52.586091Z",
          "iopub.status.idle": "2022-11-20T17:20:52.811804Z",
          "shell.execute_reply": "2022-11-20T17:20:52.810652Z"
        },
        "papermill": {
          "duration": 0.242963,
          "end_time": "2022-11-20T17:20:52.814984",
          "exception": false,
          "start_time": "2022-11-20T17:20:52.572021",
          "status": "completed"
        },
        "tags": [],
        "id": "84aa17b9",
        "outputId": "037e5a93-edfc-4943-c7e5-b3be5ce17fa1"
      },
      "outputs": [
        {
          "name": "stdout",
          "output_type": "stream",
          "text": [
            "max_idx: 1 max_ths: 0.1111111111111111 max: 0.7221324717285946\n"
          ]
        },
        {
          "data": {
            "image/png": "[encoded data removed]",
            "text/plain": [
              "<Figure size 432x288 with 1 Axes>"
            ]
          },
          "metadata": {
            "needs_background": "light"
          },
          "output_type": "display_data"
        }
      ],
      "source": [
        "thrs=np.linspace(0,1, num=10)\n",
        "\n",
        "f1_curve_strat_test=[f1_score_with_threshold (strat_test_label.values, strat_test_hat[:,1], t) for t in thrs  ]\n",
        "plt.plot(f1_curve_strat_test)\n",
        "max_idx_strat_test=np.argmax(f1_curve_strat_test)\n",
        "max_ths_strat_test=thrs[max_idx_strat_test]\n",
        "print(f\"max_idx: {max_idx_strat_test} max_ths: {max_ths_strat_test} max: {f1_curve_strat_test[max_idx_strat_test]}\",)"
      ]
    },
    {
      "cell_type": "code",
      "execution_count": null,
      "id": "d47824d6",
      "metadata": {
        "execution": {
          "iopub.execute_input": "2022-11-20T17:20:52.844177Z",
          "iopub.status.busy": "2022-11-20T17:20:52.843775Z",
          "iopub.status.idle": "2022-11-20T17:20:52.852561Z",
          "shell.execute_reply": "2022-11-20T17:20:52.851138Z"
        },
        "id": "d47824d6",
        "outputId": "cb97d38a-08eb-493a-fc8f-1e44d209542c",
        "papermill": {
          "duration": 0.026085,
          "end_time": "2022-11-20T17:20:52.854818",
          "exception": false,
          "start_time": "2022-11-20T17:20:52.828733",
          "status": "completed"
        },
        "tags": []
      },
      "outputs": [
        {
          "name": "stdout",
          "output_type": "stream",
          "text": [
            "stratified test score_f1: 0.7221324717285946\n"
          ]
        }
      ],
      "source": [
        "score_f1=f1_score_with_threshold(strat_test_label.values,  strat_test_hat[:,1],max_ths_strat_test )\n",
        "print(f\"stratified test score_f1: {score_f1}\")"
      ]
    },
    {
      "cell_type": "markdown",
      "id": "4382ca43",
      "metadata": {
        "papermill": {
          "duration": 0.012989,
          "end_time": "2022-11-20T17:20:52.881124",
          "exception": false,
          "start_time": "2022-11-20T17:20:52.868135",
          "status": "completed"
        },
        "tags": [],
        "id": "4382ca43"
      },
      "source": [
        "### Analyse feature importance"
      ]
    },
    {
      "cell_type": "code",
      "execution_count": null,
      "id": "465fafa7",
      "metadata": {
        "execution": {
          "iopub.execute_input": "2022-11-20T17:20:52.909895Z",
          "iopub.status.busy": "2022-11-20T17:20:52.909290Z",
          "iopub.status.idle": "2022-11-20T17:20:52.928397Z",
          "shell.execute_reply": "2022-11-20T17:20:52.927295Z"
        },
        "papermill": {
          "duration": 0.036983,
          "end_time": "2022-11-20T17:20:52.931711",
          "exception": false,
          "start_time": "2022-11-20T17:20:52.894728",
          "status": "completed"
        },
        "tags": [],
        "id": "465fafa7",
        "outputId": "65433b3f-9e44-45e5-d592-66fe1013f1eb"
      },
      "outputs": [
        {
          "name": "stdout",
          "output_type": "stream",
          "text": [
            "strat test\n",
            "                                                Feature  importance\n",
            "1483                  numericaltransformer__aspect_d3_4        1728\n",
            "258                       numericaltransformer__1_sdoif        1652\n",
            "116                       numericaltransformer__9_slope        1534\n",
            "115                       numericaltransformer__8_slope        1487\n",
            "1160           numericaltransformer__diag_lr1_std_slope        1293\n",
            "1138                 numericaltransformer__8_slope_rank        1275\n",
            "584         numericaltransformer__diag_lr1_std_lsfactor        1120\n",
            "46    categoricaltransformer__geology_cat_3_4_nuniqu...        1046\n",
            "1223                     numericaltransformer__twi_mean        1042\n",
            "360                 numericaltransformer__elevation_std        1037\n"
          ]
        }
      ],
      "source": [
        "def  analyse_model(model,desc, raw_numer=10, plot=False):\n",
        "    print(desc)\n",
        "    fi=pd.DataFrame({'Feature':df_train.columns,'importance':model.feature_importances_})\n",
        "    fi.sort_values('importance',ascending=False, inplace=True)\n",
        "\n",
        "    if plot:\n",
        "        ax=sns.barplot(y='Feature',x='importance',data=fi)\n",
        "        plt.xticks(rotation=90)\n",
        "    \n",
        "    print(fi.head(raw_numer))\n",
        "    return fi\n",
        "model=classifier[0]\n",
        "fi=analyse_model(model, \"strat test\")"
      ]
    },
    {
      "cell_type": "markdown",
      "id": "e9739418",
      "metadata": {
        "papermill": {
          "duration": 0.013094,
          "end_time": "2022-11-20T17:20:52.958467",
          "exception": false,
          "start_time": "2022-11-20T17:20:52.945373",
          "status": "completed"
        },
        "tags": [],
        "id": "e9739418"
      },
      "source": [
        "### Train classifier with all training data "
      ]
    },
    {
      "cell_type": "code",
      "execution_count": null,
      "id": "433096f6",
      "metadata": {
        "execution": {
          "iopub.execute_input": "2022-11-20T17:20:52.987478Z",
          "iopub.status.busy": "2022-11-20T17:20:52.986477Z",
          "iopub.status.idle": "2022-11-20T18:12:36.736952Z",
          "shell.execute_reply": "2022-11-20T18:12:36.735761Z"
        },
        "papermill": {
          "duration": 3103.780784,
          "end_time": "2022-11-20T18:12:36.752649",
          "exception": false,
          "start_time": "2022-11-20T17:20:52.971865",
          "status": "completed"
        },
        "tags": [],
        "id": "433096f6",
        "outputId": "e16f0fb8-bc3e-48e8-9ea2-755079020a47"
      },
      "outputs": [
        {
          "name": "stdout",
          "output_type": "stream",
          "text": [
            "[LightGBM] [Warning] min_data_in_leaf is set=15, min_child_samples=20 will be ignored. Current value: min_data_in_leaf=15\n"
          ]
        },
        {
          "data": {
            "text/plain": [
              "Pipeline(steps=[('clazzifier',\n",
              "                 LGBMClassifier(boost_from_average=False, boosting_type='dart',\n",
              "                                first_metric_only=True, force_col_wise=True,\n",
              "                                learning_rate=0.01, metric='binary_logloss',\n",
              "                                min_data_in_leaf=15, n_estimators=10000,\n",
              "                                num_leaves=64, objective='binary',\n",
              "                                random_state=55, subsample=0.8,\n",
              "                                subsample_freq=1, tree_learner='serial'))])"
            ]
          },
          "execution_count": 25,
          "metadata": {},
          "output_type": "execute_result"
        }
      ],
      "source": [
        "seed_everything()\n",
        "classifier=create_classifier(num_iter=10000)\n",
        "lgb_valid = [(df_train,y_train)]\n",
        "classifier.fit(df_train,y_train,\n",
        "               clazzifier__eval_set =lgb_valid, clazzifier__eval_metric =[lgb_f1_score],\n",
        "               clazzifier__feature_name=all_column_names,\n",
        "               clazzifier__categorical_feature=all_cat_features,\n",
        "              clazzifier__verbose=0)"
      ]
    },
    {
      "cell_type": "markdown",
      "id": "a672f2d3",
      "metadata": {
        "id": "a672f2d3",
        "papermill": {
          "duration": 0.013415,
          "end_time": "2022-11-20T18:12:36.779945",
          "exception": false,
          "start_time": "2022-11-20T18:12:36.766530",
          "status": "completed"
        },
        "tags": []
      },
      "source": [
        "# Predicting Test Results"
      ]
    },
    {
      "cell_type": "code",
      "execution_count": null,
      "id": "5673efa0",
      "metadata": {
        "execution": {
          "iopub.execute_input": "2022-11-20T18:12:36.819031Z",
          "iopub.status.busy": "2022-11-20T18:12:36.817960Z",
          "iopub.status.idle": "2022-11-20T18:12:43.866411Z",
          "shell.execute_reply": "2022-11-20T18:12:43.865481Z"
        },
        "papermill": {
          "duration": 7.075184,
          "end_time": "2022-11-20T18:12:43.869350",
          "exception": false,
          "start_time": "2022-11-20T18:12:36.794166",
          "status": "completed"
        },
        "tags": [],
        "id": "5673efa0"
      },
      "outputs": [],
      "source": [
        "all_test_prob=classifier.predict_proba(df_test)\n",
        "all_test_prediction=np.where(all_test_prob[:,1]>max_ths_strat_test,1,0) "
      ]
    },
    {
      "cell_type": "code",
      "execution_count": null,
      "id": "160a2dca",
      "metadata": {
        "execution": {
          "iopub.execute_input": "2022-11-20T18:12:43.974913Z",
          "iopub.status.busy": "2022-11-20T18:12:43.974523Z",
          "iopub.status.idle": "2022-11-20T18:12:43.984207Z",
          "shell.execute_reply": "2022-11-20T18:12:43.983017Z"
        },
        "id": "160a2dca",
        "outputId": "04a0bb17-0a60-4c29-95f1-3d273cd4b1e6",
        "papermill": {
          "duration": 0.027082,
          "end_time": "2022-11-20T18:12:43.986434",
          "exception": false,
          "start_time": "2022-11-20T18:12:43.959352",
          "status": "completed"
        },
        "tags": []
      },
      "outputs": [
        {
          "data": {
            "text/plain": [
              "(array([3627, 1803]), array([0. , 0.5, 1. ]))"
            ]
          },
          "execution_count": 27,
          "metadata": {},
          "output_type": "execute_result"
        }
      ],
      "source": [
        "np.histogram(all_test_prediction, bins=2)"
      ]
    },
    {
      "cell_type": "markdown",
      "id": "64e13fc6",
      "metadata": {
        "id": "64e13fc6",
        "papermill": {
          "duration": 0.013641,
          "end_time": "2022-11-20T18:12:44.014174",
          "exception": false,
          "start_time": "2022-11-20T18:12:44.000533",
          "status": "completed"
        },
        "tags": []
      },
      "source": [
        "### Preparing Submission file"
      ]
    },
    {
      "cell_type": "code",
      "execution_count": null,
      "id": "dcc39f8b",
      "metadata": {
        "execution": {
          "iopub.execute_input": "2022-11-20T18:12:44.044564Z",
          "iopub.status.busy": "2022-11-20T18:12:44.043936Z",
          "iopub.status.idle": "2022-11-20T18:12:44.050986Z",
          "shell.execute_reply": "2022-11-20T18:12:44.050101Z"
        },
        "id": "dcc39f8b",
        "papermill": {
          "duration": 0.025025,
          "end_time": "2022-11-20T18:12:44.053206",
          "exception": false,
          "start_time": "2022-11-20T18:12:44.028181",
          "status": "completed"
        },
        "tags": []
      },
      "outputs": [],
      "source": [
        "def sub_files(file_name, test_result):    \n",
        "    if max(test_result)>1 or min(test_result)<0 :\n",
        "        print(f'invalid file : {file_name} due to boundary')\n",
        "        return \n",
        "    if sum(test_result==0)==len(test):\n",
        "        print(f'invalid file : {file_name} as all prediction is 0')\n",
        "        return \n",
        "    \n",
        "    if sum(test_result==1)==len(test):\n",
        "        print(f'invalid file : {file_name} as all prediction is 1')\n",
        "        return \n",
        "        \n",
        "    df_sub_file = pd.DataFrame({'Sample_ID': test.index, 'Label': test_result})    \n",
        "    print(df_sub_file.head())\n",
        "    # Create a csv file and upload to zindi \n",
        "    #sub_file_name=path+f'{file_name}_f1_score_{score_f1}.csv'\n",
        "    sub_file_name=f'{file_name}_f1_score_{score_f1}.csv'\n",
        "    print(f'Saving to {sub_file_name}')\n",
        "    df_sub_file.to_csv(sub_file_name, index = False)    "
      ]
    },
    {
      "cell_type": "code",
      "execution_count": null,
      "id": "f4076108",
      "metadata": {
        "execution": {
          "iopub.execute_input": "2022-11-20T18:12:44.083510Z",
          "iopub.status.busy": "2022-11-20T18:12:44.082702Z",
          "iopub.status.idle": "2022-11-20T18:12:44.124170Z",
          "shell.execute_reply": "2022-11-20T18:12:44.122688Z"
        },
        "id": "f4076108",
        "papermill": {
          "duration": 0.059824,
          "end_time": "2022-11-20T18:12:44.127083",
          "exception": false,
          "start_time": "2022-11-20T18:12:44.067259",
          "status": "completed"
        },
        "tags": [],
        "outputId": "d29cefad-512e-40cc-f0ba-e7f1c0e92baa"
      },
      "outputs": [
        {
          "name": "stdout",
          "output_type": "stream",
          "text": [
            "   Sample_ID  Label\n",
            "0      10865      0\n",
            "1      10866      0\n",
            "2      10867      0\n",
            "3      10868      1\n",
            "4      10869      1\n",
            "Saving to test_result_f1_score_0.7221324717285946.csv\n"
          ]
        }
      ],
      "source": [
        "sub_files('test_result',all_test_prediction)"
      ]
    }
  ],
  "metadata": {
    "kernelspec": {
      "display_name": "Python 3",
      "language": "python",
      "name": "python3"
    },
    "language_info": {
      "codemirror_mode": {
        "name": "ipython",
        "version": 3
      },
      "file_extension": ".py",
      "mimetype": "text/x-python",
      "name": "python",
      "nbconvert_exporter": "python",
      "pygments_lexer": "ipython3",
      "version": "3.7.12"
    },
    "papermill": {
      "default_parameters": {},
      "duration": 5836.816676,
      "end_time": "2022-11-20T18:12:45.076291",
      "environment_variables": {},
      "exception": null,
      "input_path": "__notebook__.ipynb",
      "output_path": "__notebook__.ipynb",
      "parameters": {},
      "start_time": "2022-11-20T16:35:28.259615",
      "version": "2.3.4"
    },
    "colab": {
      "provenance": []
    }
  },
  "nbformat": 4,
  "nbformat_minor": 5
}